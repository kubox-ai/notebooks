{
 "cells": [
  {
   "cell_type": "code",
   "execution_count": null,
   "metadata": {},
   "outputs": [],
   "source": [
    "import numpy as np\n",
    "\n",
    "# Create a NumPy array\n",
    "array = np.array([1, 2, 3, 4, 5])\n",
    "print(\"Original Array:\", array)\n",
    "\n",
    "# Perform basic operations\n",
    "squared = array**2\n",
    "print(\"Squared Array:\", squared)\n",
    "\n",
    "# Generate a random sample\n",
    "random_sample = np.random.random(5)  # 5 random numbers between 0 and 1\n",
    "print(\"Random Sample:\", random_sample)\n",
    "\n",
    "# Calculate the mean and standard deviation\n",
    "mean = np.mean(random_sample)\n",
    "std_dev = np.std(random_sample)\n",
    "print(f\"Mean: {mean:.2f}, Standard Deviation: {std_dev:.2f}\")\n",
    "\n",
    "# Create a 2D array (matrix)\n",
    "matrix = np.array([[1, 2, 3], [4, 5, 6]])\n",
    "print(\"2D Matrix:\")\n",
    "print(matrix)\n",
    "\n",
    "# Perform matrix operations (transpose)\n",
    "transpose = matrix.T\n",
    "print(\"Transposed Matrix:\")\n",
    "print(transpose)"
   ]
  },
  {
   "cell_type": "code",
   "execution_count": null,
   "metadata": {},
   "outputs": [],
   "source": []
  }
 ],
 "metadata": {
  "kernelspec": {
   "display_name": ".venv",
   "language": "python",
   "name": "python3"
  },
  "language_info": {
   "codemirror_mode": {
    "name": "ipython",
    "version": 3
   },
   "file_extension": ".py",
   "mimetype": "text/x-python",
   "name": "python",
   "nbconvert_exporter": "python",
   "pygments_lexer": "ipython3",
   "version": "3.11.9"
  }
 },
 "nbformat": 4,
 "nbformat_minor": 2
}
